{
    "cells": [
        {
            "metadata": {},
            "cell_type": "markdown",
            "source": "## Scala code"
        },
        {
            "metadata": {},
            "cell_type": "code",
            "source": "\n// @hidden_cell\nimport com.ibm.ibmos2spark.CloudObjectStorage\nvar configurationName = \"os_830776754b1e430e8f08ad597322d28c_configs\"\ndef getCredentials(): scala.collection.mutable.HashMap[String, String] = {\n    return scala.collection.mutable.HashMap[String, String] (\n    \"endPoint\"->\"https://s3-api.us-geo.objectstorage.service.networklayer.com\",\n    \"apiKey\"->\"dy_EiyjEVbWGrlLg7AEe0mTqhGbdgUW_TPVFuC9F-_ej\",\n    \"serviceId\"->\"iam-ServiceId-b590a135-4c4c-4d45-be34-6a2df75a9f23\",\n    \"iamServiceEndpoint\" -> \"https://iam.cloud.ibm.com/oidc/token\")\n}\n\nvar cos = new CloudObjectStorage(sc, getCredentials(), configurationName, \"bluemix_cos\")\n\nimport org.apache.spark.sql.SparkSession\nval spark = SparkSession.\n    builder().\n    getOrCreate()\nval dfData1 = spark.\n    read.format(\"org.apache.spark.sql.execution.datasources.csv.CSVFileFormat\").\n    option(\"header\", \"true\").\n    option(\"inferSchema\", \"true\").\n    load(cos.url(\"precipitationanalysis-donotdelete-pr-aw7jsu7jfefrx3\", \"P12-OfficeSupplies.csv\"))\ndfData1.show(5)\n",
            "execution_count": 2,
            "outputs": [
                {
                    "output_type": "stream",
                    "text": "+-----------+-------+-------+-------+-----+----------+\n|  OrderDate| Region|    Rep|   Item|Units|Unit Price|\n+-----------+-------+-------+-------+-----+----------+\n| 4-Jul-2014|   East|Richard|Pen Set|   62|      4.99|\n|12-Jul-2014|   East|   Nick| Binder|   29|      1.99|\n|21-Jul-2014|Central| Morgan|Pen Set|   55|     12.49|\n|29-Jul-2014|   East|  Susan| Binder|   81|     19.99|\n| 7-Aug-2014|Central|Matthew|Pen Set|   42|     23.95|\n+-----------+-------+-------+-------+-----+----------+\nonly showing top 5 rows\n\n",
                    "name": "stdout"
                },
                {
                    "output_type": "display_data",
                    "data": {
                        "text/plain": "configurationName = os_830776754b1e430e8f08ad597322d28c_configs\ncos = com.ibm.ibmos2spark.CloudObjectStorage@44af1ba5\nspark = org.apache.spark.sql.SparkSession@f6405bf4\ndfData1 = [OrderDate: string, Region: string ... 4 more fields]\n"
                    },
                    "metadata": {}
                },
                {
                    "output_type": "display_data",
                    "data": {
                        "text/plain": "getCredentials: ()scala.collection.mutable.HashMap[String,String]\n"
                    },
                    "metadata": {}
                },
                {
                    "output_type": "execute_result",
                    "execution_count": 2,
                    "data": {
                        "text/plain": "[OrderDate: string, Region: string ... 4 more fields]"
                    },
                    "metadata": {}
                }
            ]
        },
        {
            "metadata": {},
            "cell_type": "code",
            "source": "",
            "execution_count": null,
            "outputs": []
        }
    ],
    "metadata": {
        "kernelspec": {
            "name": "scala",
            "display_name": "Scala 2.11 with Spark",
            "language": "scala"
        },
        "language_info": {
            "mimetype": "text/x-scala",
            "name": "scala",
            "pygments_lexer": "scala",
            "version": "2.11.12",
            "file_extension": ".scala",
            "codemirror_mode": "text/x-scala"
        }
    },
    "nbformat": 4,
    "nbformat_minor": 1
}